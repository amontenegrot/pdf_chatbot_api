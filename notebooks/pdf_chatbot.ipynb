{
 "cells": [
  {
   "cell_type": "code",
   "execution_count": 1,
   "metadata": {},
   "outputs": [
    {
     "name": "stderr",
     "output_type": "stream",
     "text": [
      "d:\\Proyectos\\LLMs\\pdf_chatbot_api\\venv\\lib\\site-packages\\tqdm\\auto.py:21: TqdmWarning: IProgress not found. Please update jupyter and ipywidgets. See https://ipywidgets.readthedocs.io/en/stable/user_install.html\n",
      "  from .autonotebook import tqdm as notebook_tqdm\n"
     ]
    }
   ],
   "source": [
    "import os\n",
    "from os import getenv\n",
    "from pathlib import Path\n",
    "\n",
    "from tqdm import tqdm\n",
    "from PyPDF2 import PdfReader\n",
    "from langchain.text_splitter import RecursiveCharacterTextSplitter\n",
    "from langchain.embeddings import HuggingFaceEmbeddings\n",
    "from sentence_transformers import SentenceTransformer\n",
    "from langchain.vectorstores import FAISS\n",
    "from langchain.chat_models import ChatOpenAI\n",
    "from langchain.chains.question_answering import load_qa_chain\n",
    "from langchain.callbacks import get_openai_callback"
   ]
  },
  {
   "cell_type": "code",
   "execution_count": 2,
   "metadata": {},
   "outputs": [],
   "source": [
    "def get_path(prev_folders: int = 0) -> str:\n",
    "    \"\"\"\n",
    "    Identifies a specific directory according to the absolute path of the file.\n",
    "    Args:\n",
    "        prev_folders (int): An integer indicating the number of previous folders to get. If not given, 0 (current folder) is used by default.\n",
    "\n",
    "    Returns:\n",
    "        str: A text string with the identified path.\n",
    "    \"\"\"\n",
    "    # Use pathlib to handle paths and directories\n",
    "    path = Path.cwd()\n",
    "    \n",
    "    # Go up the specified number of directories\n",
    "    for _ in range(prev_folders):\n",
    "        path = path.parent\n",
    "    \n",
    "    # Convert path to string and ensure it ends with a slash\n",
    "    path_str = str(path)\n",
    "    if not path_str.endswith('/'):\n",
    "        path_str += '/'\n",
    "    \n",
    "    return path_str"
   ]
  },
  {
   "cell_type": "code",
   "execution_count": 3,
   "metadata": {},
   "outputs": [],
   "source": [
    "PATH = get_path(1)\n",
    "OPENAI_API_KEY = getenv('OPENAI_API_KEY')"
   ]
  },
  {
   "cell_type": "markdown",
   "metadata": {},
   "source": [
    "# Read data"
   ]
  },
  {
   "cell_type": "code",
   "execution_count": 4,
   "metadata": {},
   "outputs": [],
   "source": [
    "# Read pdf\n",
    "pdf_file_obj = open(PATH + 'data/constitucion_colombia_1991.pdf', 'rb')\n",
    "pdf_reader = PdfReader(pdf_file_obj)\n",
    "\n",
    "text = \"\".join(page.extract_text() for page in pdf_reader.pages)\n",
    "\n",
    "pdf_file_obj.close()  # Free up system resources\n",
    "del pdf_file_obj, pdf_reader  # Delete variables to free memory"
   ]
  },
  {
   "cell_type": "markdown",
   "metadata": {},
   "source": [
    "# Preprocessing"
   ]
  },
  {
   "cell_type": "markdown",
   "metadata": {},
   "source": [
    "## Chunks"
   ]
  },
  {
   "cell_type": "code",
   "execution_count": 5,
   "metadata": {},
   "outputs": [],
   "source": [
    "# Chunks creation\n",
    "text_splitter = RecursiveCharacterTextSplitter(\n",
    "    chunk_size=500,\n",
    "    chunk_overlap=30,\n",
    "    length_function=len\n",
    "    )\n",
    "\n",
    "chunks = text_splitter.split_text(text)\n",
    "# len(chunks)\n",
    "# chunks[13]"
   ]
  },
  {
   "cell_type": "markdown",
   "metadata": {},
   "source": [
    "## Embeddings"
   ]
  },
  {
   "cell_type": "code",
   "execution_count": 6,
   "metadata": {},
   "outputs": [],
   "source": [
    "# Embeddings model creation\n",
    "MINILM_L12_V2 = 'sentence-transformers/paraphrase-multilingual-MiniLM-L12-v2'  # 471M\n",
    "MPNET_BASE_V2 = 'sentence-transformers/paraphrase-multilingual-mpnet-base-v2'  # 1.11G\n",
    "\n",
    "embeddings = HuggingFaceEmbeddings(model_name=MPNET_BASE_V2)\n",
    "model = SentenceTransformer(MPNET_BASE_V2)"
   ]
  },
  {
   "cell_type": "code",
   "execution_count": 7,
   "metadata": {},
   "outputs": [],
   "source": [
    "# # Embeddings example\n",
    "# sentence_embeddings = model.encode('Esta es una prueba de embeddings')\n",
    "# sentence_embeddings"
   ]
  },
  {
   "cell_type": "code",
   "execution_count": 8,
   "metadata": {},
   "outputs": [],
   "source": [
    "knowledge_base = FAISS.from_texts(chunks, embeddings)"
   ]
  },
  {
   "cell_type": "code",
   "execution_count": null,
   "metadata": {},
   "outputs": [],
   "source": [
    "# # Embeddings example\n",
    "# question = '¿Puedo ser obligado a declarar contra mí mismo?'\n",
    "# # Busqueda de párrafos similares\n",
    "# docs = knowledge_base.similarity_search(question, 5)"
   ]
  },
  {
   "cell_type": "markdown",
   "metadata": {},
   "source": [
    "## LangChain"
   ]
  },
  {
   "cell_type": "code",
   "execution_count": null,
   "metadata": {},
   "outputs": [],
   "source": [
    "llm = ChatOpenAI(model_name='gpt-3.5-turbo-0125')  # gpt-3.5-turbo\n",
    "chain = load_qa_chain(llm, chain_type='stuff')"
   ]
  },
  {
   "cell_type": "code",
   "execution_count": 10,
   "metadata": {},
   "outputs": [
    {
     "name": "stderr",
     "output_type": "stream",
     "text": [
      "d:\\Proyectos\\LLMs\\pdf_chatbot_api\\venv\\lib\\site-packages\\langchain_core\\_api\\deprecation.py:117: LangChainDeprecationWarning: The function `run` was deprecated in LangChain 0.1.0 and will be removed in 0.2.0. Use invoke instead.\n",
      "  warn_deprecated(\n"
     ]
    },
    {
     "name": "stdout",
     "output_type": "stream",
     "text": [
      "Respuesta ChatGPT:\n",
      "\t No, según la información proporcionada, ninguna persona puede ser obligada a declarar contra sí misma.\n"
     ]
    }
   ],
   "source": [
    "question = '¿Puedo ser obligado a declarar contra mí mismo?'\n",
    "# Busqueda de párrafos similares\n",
    "docs = knowledge_base.similarity_search(question, 2)\n",
    "# Utilizar los parrafos similares para darle contexto a ChatGPT\n",
    "answer = chain.run(input_documents=docs, question=question)\n",
    "print(f'Respuesta ChatGPT:\\n\\t {answer}')"
   ]
  },
  {
   "cell_type": "code",
   "execution_count": 11,
   "metadata": {},
   "outputs": [
    {
     "name": "stdout",
     "output_type": "stream",
     "text": [
      "Tokens Used: 342\n",
      "\tPrompt Tokens: 295\n",
      "\tCompletion Tokens: 47\n",
      "Successful Requests: 1\n",
      "Total Cost (USD): $0.0005365\n"
     ]
    }
   ],
   "source": [
    "# Calculate cost\n",
    "with get_openai_callback() as cb:\n",
    "    response = chain.run(input_documents=docs, question=question)\n",
    "    print(cb)"
   ]
  },
  {
   "cell_type": "markdown",
   "metadata": {},
   "source": [
    "# Bibliografía"
   ]
  },
  {
   "cell_type": "markdown",
   "metadata": {},
   "source": [
    "1. [Tutorial base](https://www.youtube.com/watch?v=iDrpdkIHMq8&t=897s&ab_channel=Nechu)\n",
    "2. [Secondary base](https://www.analyticsvidhya.com/blog/2023/07/creating-a-chatbot-with-falconai-langchain-and-chainlit/)\n",
    "3. [Notebook base](https://colab.research.google.com/drive/1sLPDZJMBzMFF6s1scFcj5P3Rr2QPBX51?usp=sharing#scrollTo=6b0eb821)\n",
    "4. [PEP 484 – Type Hints](https://docs.python.org/3/library/typing.html)\n",
    "5. [PEP 257 – Docstring Conventions](https://peps.python.org/pep-0257/)"
   ]
  }
 ],
 "metadata": {
  "kernelspec": {
   "display_name": "venv",
   "language": "python",
   "name": "python3"
  },
  "language_info": {
   "codemirror_mode": {
    "name": "ipython",
    "version": 3
   },
   "file_extension": ".py",
   "mimetype": "text/x-python",
   "name": "python",
   "nbconvert_exporter": "python",
   "pygments_lexer": "ipython3",
   "version": "3.9.13"
  }
 },
 "nbformat": 4,
 "nbformat_minor": 2
}
